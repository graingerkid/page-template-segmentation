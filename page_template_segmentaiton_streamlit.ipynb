{
  "nbformat": 4,
  "nbformat_minor": 0,
  "metadata": {
    "colab": {
      "provenance": [],
      "authorship_tag": "ABX9TyNWVWC+y6sakVgxxWvRpN4G",
      "include_colab_link": true
    },
    "kernelspec": {
      "name": "python3",
      "display_name": "Python 3"
    },
    "language_info": {
      "name": "python"
    }
  },
  "cells": [
    {
      "cell_type": "markdown",
      "metadata": {
        "id": "view-in-github",
        "colab_type": "text"
      },
      "source": [
        "<a href=\"https://colab.research.google.com/github/simodepth96/page-template-segmentation/blob/main/page_template_segmentaiton_streamlit.ipynb\" target=\"_parent\"><img src=\"https://colab.research.google.com/assets/colab-badge.svg\" alt=\"Open In Colab\"/></a>"
      ]
    },
    {
      "cell_type": "code",
      "execution_count": null,
      "metadata": {
        "id": "QpVqGgmT8WIP"
      },
      "outputs": [],
      "source": [
        "import streamlit as st\n",
        "from sklearn.feature_extraction.text import TfidfVectorizer\n",
        "from sklearn.cluster import KMeans\n",
        "import pandas as pd\n",
        "import numpy as np\n",
        "import plotly.express as px\n",
        "\n",
        "# Load data from uploaded file\n",
        "def load_data(file):\n",
        "    if file is not None:\n",
        "        if file.name.endswith('.csv'):\n",
        "            df = pd.read_csv(file)\n",
        "        elif file.name.endswith('.xlsx'):\n",
        "            df = pd.read_excel(file)\n",
        "        else:\n",
        "            st.error(\"Invalid file format. Please upload a CSV or XLSX file.\")\n",
        "            return None\n",
        "        return df\n",
        "    return None\n",
        "\n",
        "# Perform data processing and visualization\n",
        "def process_and_visualize_data(df):\n",
        "    if df is not None:\n",
        "        # Data cleaning\n",
        "        df = df[df['Page'].map(lambda x: x.isascii())]\n",
        "\n",
        "        # Segmentation\n",
        "        df['Parent category'] = df['Page'].str.split('/').str[3]\n",
        "        df['sub category'] = df['Page'].str.split('/').str[4]\n",
        "        df.fillna('Homepage', inplace=True)\n",
        "        df.to_excel('segmentation.xlsx', index=False)\n",
        "\n",
        "        # Data viz\n",
        "        parent_df = df['Parent category'].value_counts().reset_index()\n",
        "        parent_df.columns = ['Parent category', 'Count']\n",
        "        sub_df = df['sub category'].value_counts().reset_index()\n",
        "        sub_df.columns = ['sub category', 'Count']\n",
        "\n",
        "        # Plot most frequent categories\n",
        "        st.markdown(\"### Top 10 Parent Categories\")\n",
        "        st.plotly_chart(px.histogram(parent_df.head(10), x='Parent category', y='Count'))\n",
        "\n",
        "        st.markdown(\"### Top 10 Sub Categories\")\n",
        "        st.plotly_chart(px.histogram(sub_df.head(10), x='sub category', y='Count'))\n",
        "\n",
        "# Streamlit UI\n",
        "st.title(\"Page Template Segmentation and Visualization\")\n",
        "\n",
        "# Upload CSV or Excel file\n",
        "uploaded_file = st.file_uploader(\"Upload CSV or Excel file\", type=[\"csv\", \"xlsx\"])\n",
        "\n",
        "# Process and visualize data on button click\n",
        "if st.button(\"Process and Visualize Data\") and uploaded_file is not None:\n",
        "    # Load data\n",
        "    data = load_data(uploaded_file)\n",
        "\n",
        "    # Process and visualize data\n",
        "    process_and_visualize_data(data)\n"
      ]
    }
  ]
}